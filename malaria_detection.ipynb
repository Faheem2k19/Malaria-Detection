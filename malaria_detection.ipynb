{
  "nbformat": 4,
  "nbformat_minor": 0,
  "metadata": {
    "colab": {
      "name": "malaria_detection.ipynb",
      "provenance": [],
      "include_colab_link": true
    },
    "kernelspec": {
      "name": "python3",
      "display_name": "Python 3"
    },
    "accelerator": "GPU"
  },
  "cells": [
    {
      "cell_type": "markdown",
      "metadata": {
        "id": "view-in-github",
        "colab_type": "text"
      },
      "source": [
        "<a href=\"https://colab.research.google.com/github/Faheem2k19/Malaria-Detection/blob/master/malaria_detection.ipynb\" target=\"_parent\"><img src=\"https://colab.research.google.com/assets/colab-badge.svg\" alt=\"Open In Colab\"/></a>"
      ]
    },
    {
      "cell_type": "code",
      "execution_count": 5,
      "metadata": {},
      "outputs": [],
      "source": [
        "import pandas as pd"
      ]
    },
    {
      "cell_type": "code",
      "execution_count": 7,
      "metadata": {},
      "outputs": [],
      "source": [
        "train = pd.read_csv(\"C:/Users/fahim/OneDrive/Documents/GitHub/Malaria-Detection/datasets/train.csv\")\n",
        "test = pd.read_csv(\"C:/Users/fahim/OneDrive/Documents/GitHub/Malaria-Detection/datasets/test.csv\")"
      ]
    },
    {
      "cell_type": "code",
      "execution_count": 8,
      "metadata": {},
      "outputs": [
        {
          "output_type": "execute_result",
          "data": {
            "text/plain": "         label  pixel_0  pixel_1  pixel_2  pixel_3  pixel_4  pixel_5  pixel_6  \\\n0  Parasitized        0        0        0        0        0        0        0   \n1  Parasitized        0        0        0        0        0        0        0   \n2  Parasitized        0        0        0        0        0        0        0   \n3  Parasitized        0        0        0        0        0        0        0   \n4  Parasitized        0        0        0        0        0        0        0   \n\n   pixel_7  pixel_8  ...  pixel_2490  pixel_2491  pixel_2492  pixel_2493  \\\n0        0        0  ...           0           0           0           0   \n1        0        0  ...           0           0           0           0   \n2        0        0  ...           0           0           0           0   \n3        0        0  ...           0           0           0           0   \n4        0        0  ...           0           0           0           0   \n\n   pixel_2494  pixel_2495  pixel_2496  pixel_2497  pixel_2498  pixel_2499  \n0           0           0           0           0           0           0  \n1           0           0           0           0           0           0  \n2           0           0           0           0           0           0  \n3           0           0           0           0           0           0  \n4           0           0           0           0           0           0  \n\n[5 rows x 2501 columns]",
            "text/html": "<div>\n<style scoped>\n    .dataframe tbody tr th:only-of-type {\n        vertical-align: middle;\n    }\n\n    .dataframe tbody tr th {\n        vertical-align: top;\n    }\n\n    .dataframe thead th {\n        text-align: right;\n    }\n</style>\n<table border=\"1\" class=\"dataframe\">\n  <thead>\n    <tr style=\"text-align: right;\">\n      <th></th>\n      <th>label</th>\n      <th>pixel_0</th>\n      <th>pixel_1</th>\n      <th>pixel_2</th>\n      <th>pixel_3</th>\n      <th>pixel_4</th>\n      <th>pixel_5</th>\n      <th>pixel_6</th>\n      <th>pixel_7</th>\n      <th>pixel_8</th>\n      <th>...</th>\n      <th>pixel_2490</th>\n      <th>pixel_2491</th>\n      <th>pixel_2492</th>\n      <th>pixel_2493</th>\n      <th>pixel_2494</th>\n      <th>pixel_2495</th>\n      <th>pixel_2496</th>\n      <th>pixel_2497</th>\n      <th>pixel_2498</th>\n      <th>pixel_2499</th>\n    </tr>\n  </thead>\n  <tbody>\n    <tr>\n      <th>0</th>\n      <td>Parasitized</td>\n      <td>0</td>\n      <td>0</td>\n      <td>0</td>\n      <td>0</td>\n      <td>0</td>\n      <td>0</td>\n      <td>0</td>\n      <td>0</td>\n      <td>0</td>\n      <td>...</td>\n      <td>0</td>\n      <td>0</td>\n      <td>0</td>\n      <td>0</td>\n      <td>0</td>\n      <td>0</td>\n      <td>0</td>\n      <td>0</td>\n      <td>0</td>\n      <td>0</td>\n    </tr>\n    <tr>\n      <th>1</th>\n      <td>Parasitized</td>\n      <td>0</td>\n      <td>0</td>\n      <td>0</td>\n      <td>0</td>\n      <td>0</td>\n      <td>0</td>\n      <td>0</td>\n      <td>0</td>\n      <td>0</td>\n      <td>...</td>\n      <td>0</td>\n      <td>0</td>\n      <td>0</td>\n      <td>0</td>\n      <td>0</td>\n      <td>0</td>\n      <td>0</td>\n      <td>0</td>\n      <td>0</td>\n      <td>0</td>\n    </tr>\n    <tr>\n      <th>2</th>\n      <td>Parasitized</td>\n      <td>0</td>\n      <td>0</td>\n      <td>0</td>\n      <td>0</td>\n      <td>0</td>\n      <td>0</td>\n      <td>0</td>\n      <td>0</td>\n      <td>0</td>\n      <td>...</td>\n      <td>0</td>\n      <td>0</td>\n      <td>0</td>\n      <td>0</td>\n      <td>0</td>\n      <td>0</td>\n      <td>0</td>\n      <td>0</td>\n      <td>0</td>\n      <td>0</td>\n    </tr>\n    <tr>\n      <th>3</th>\n      <td>Parasitized</td>\n      <td>0</td>\n      <td>0</td>\n      <td>0</td>\n      <td>0</td>\n      <td>0</td>\n      <td>0</td>\n      <td>0</td>\n      <td>0</td>\n      <td>0</td>\n      <td>...</td>\n      <td>0</td>\n      <td>0</td>\n      <td>0</td>\n      <td>0</td>\n      <td>0</td>\n      <td>0</td>\n      <td>0</td>\n      <td>0</td>\n      <td>0</td>\n      <td>0</td>\n    </tr>\n    <tr>\n      <th>4</th>\n      <td>Parasitized</td>\n      <td>0</td>\n      <td>0</td>\n      <td>0</td>\n      <td>0</td>\n      <td>0</td>\n      <td>0</td>\n      <td>0</td>\n      <td>0</td>\n      <td>0</td>\n      <td>...</td>\n      <td>0</td>\n      <td>0</td>\n      <td>0</td>\n      <td>0</td>\n      <td>0</td>\n      <td>0</td>\n      <td>0</td>\n      <td>0</td>\n      <td>0</td>\n      <td>0</td>\n    </tr>\n  </tbody>\n</table>\n<p>5 rows × 2501 columns</p>\n</div>"
          },
          "metadata": {},
          "execution_count": 8
        }
      ],
      "source": [
        "train.head()"
      ]
    },
    {
      "cell_type": "code",
      "execution_count": 11,
      "metadata": {},
      "outputs": [
        {
          "output_type": "execute_result",
          "data": {
            "text/plain": "            label  pixel_0  pixel_1  pixel_2  pixel_3  pixel_4  pixel_5  \\\n22041  Uninfected        0        0        0        0        0        0   \n22042  Uninfected        0        0        0        0        0        0   \n22043  Uninfected        0        0        0        0        0        0   \n22044  Uninfected        0        0        0        0        0        0   \n22045  Uninfected        0        0        0        0        0        0   \n\n       pixel_6  pixel_7  pixel_8  ...  pixel_2490  pixel_2491  pixel_2492  \\\n22041        0        0        0  ...           0           0           0   \n22042        0        0        0  ...           0           0           0   \n22043        0        0        0  ...           0           0           0   \n22044        0        0        0  ...           0           0           0   \n22045        0        0        0  ...           0           0           0   \n\n       pixel_2493  pixel_2494  pixel_2495  pixel_2496  pixel_2497  pixel_2498  \\\n22041           0           0           0           0           0           0   \n22042           0           0           0           0           0           0   \n22043           0           0           0           0           0           0   \n22044           0           0           0           0           0           0   \n22045           0           0           0           0           0           0   \n\n       pixel_2499  \n22041           0  \n22042           0  \n22043           0  \n22044           0  \n22045           0  \n\n[5 rows x 2501 columns]",
            "text/html": "<div>\n<style scoped>\n    .dataframe tbody tr th:only-of-type {\n        vertical-align: middle;\n    }\n\n    .dataframe tbody tr th {\n        vertical-align: top;\n    }\n\n    .dataframe thead th {\n        text-align: right;\n    }\n</style>\n<table border=\"1\" class=\"dataframe\">\n  <thead>\n    <tr style=\"text-align: right;\">\n      <th></th>\n      <th>label</th>\n      <th>pixel_0</th>\n      <th>pixel_1</th>\n      <th>pixel_2</th>\n      <th>pixel_3</th>\n      <th>pixel_4</th>\n      <th>pixel_5</th>\n      <th>pixel_6</th>\n      <th>pixel_7</th>\n      <th>pixel_8</th>\n      <th>...</th>\n      <th>pixel_2490</th>\n      <th>pixel_2491</th>\n      <th>pixel_2492</th>\n      <th>pixel_2493</th>\n      <th>pixel_2494</th>\n      <th>pixel_2495</th>\n      <th>pixel_2496</th>\n      <th>pixel_2497</th>\n      <th>pixel_2498</th>\n      <th>pixel_2499</th>\n    </tr>\n  </thead>\n  <tbody>\n    <tr>\n      <th>22041</th>\n      <td>Uninfected</td>\n      <td>0</td>\n      <td>0</td>\n      <td>0</td>\n      <td>0</td>\n      <td>0</td>\n      <td>0</td>\n      <td>0</td>\n      <td>0</td>\n      <td>0</td>\n      <td>...</td>\n      <td>0</td>\n      <td>0</td>\n      <td>0</td>\n      <td>0</td>\n      <td>0</td>\n      <td>0</td>\n      <td>0</td>\n      <td>0</td>\n      <td>0</td>\n      <td>0</td>\n    </tr>\n    <tr>\n      <th>22042</th>\n      <td>Uninfected</td>\n      <td>0</td>\n      <td>0</td>\n      <td>0</td>\n      <td>0</td>\n      <td>0</td>\n      <td>0</td>\n      <td>0</td>\n      <td>0</td>\n      <td>0</td>\n      <td>...</td>\n      <td>0</td>\n      <td>0</td>\n      <td>0</td>\n      <td>0</td>\n      <td>0</td>\n      <td>0</td>\n      <td>0</td>\n      <td>0</td>\n      <td>0</td>\n      <td>0</td>\n    </tr>\n    <tr>\n      <th>22043</th>\n      <td>Uninfected</td>\n      <td>0</td>\n      <td>0</td>\n      <td>0</td>\n      <td>0</td>\n      <td>0</td>\n      <td>0</td>\n      <td>0</td>\n      <td>0</td>\n      <td>0</td>\n      <td>...</td>\n      <td>0</td>\n      <td>0</td>\n      <td>0</td>\n      <td>0</td>\n      <td>0</td>\n      <td>0</td>\n      <td>0</td>\n      <td>0</td>\n      <td>0</td>\n      <td>0</td>\n    </tr>\n    <tr>\n      <th>22044</th>\n      <td>Uninfected</td>\n      <td>0</td>\n      <td>0</td>\n      <td>0</td>\n      <td>0</td>\n      <td>0</td>\n      <td>0</td>\n      <td>0</td>\n      <td>0</td>\n      <td>0</td>\n      <td>...</td>\n      <td>0</td>\n      <td>0</td>\n      <td>0</td>\n      <td>0</td>\n      <td>0</td>\n      <td>0</td>\n      <td>0</td>\n      <td>0</td>\n      <td>0</td>\n      <td>0</td>\n    </tr>\n    <tr>\n      <th>22045</th>\n      <td>Uninfected</td>\n      <td>0</td>\n      <td>0</td>\n      <td>0</td>\n      <td>0</td>\n      <td>0</td>\n      <td>0</td>\n      <td>0</td>\n      <td>0</td>\n      <td>0</td>\n      <td>...</td>\n      <td>0</td>\n      <td>0</td>\n      <td>0</td>\n      <td>0</td>\n      <td>0</td>\n      <td>0</td>\n      <td>0</td>\n      <td>0</td>\n      <td>0</td>\n      <td>0</td>\n    </tr>\n  </tbody>\n</table>\n<p>5 rows × 2501 columns</p>\n</div>"
          },
          "metadata": {},
          "execution_count": 11
        }
      ],
      "source": [
        "train.tail()"
      ]
    },
    {
      "cell_type": "code",
      "execution_count": 12,
      "metadata": {},
      "outputs": [
        {
          "output_type": "execute_result",
          "data": {
            "text/plain": "            pixel_0       pixel_1       pixel_2       pixel_3       pixel_4  \\\ncount  22046.000000  22046.000000  22046.000000  22046.000000  22046.000000   \nmean       0.082691      0.158396      0.263313      0.462624      0.699809   \nstd        3.222090      4.543716      6.065143      8.100107     10.053545   \nmin        0.000000      0.000000      0.000000      0.000000      0.000000   \n25%        0.000000      0.000000      0.000000      0.000000      0.000000   \n50%        0.000000      0.000000      0.000000      0.000000      0.000000   \n75%        0.000000      0.000000      0.000000      0.000000      0.000000   \nmax      174.000000    189.000000    197.000000    205.000000    205.000000   \n\n            pixel_5       pixel_6       pixel_7       pixel_8       pixel_9  \\\ncount  22046.000000  22046.000000  22046.000000  22046.000000  22046.000000   \nmean       0.940533      1.256237      1.752245      2.414678      3.455502   \nstd       11.834619     13.789559     16.426943     19.113640     23.061772   \nmin        0.000000      0.000000      0.000000      0.000000      0.000000   \n25%        0.000000      0.000000      0.000000      0.000000      0.000000   \n50%        0.000000      0.000000      0.000000      0.000000      0.000000   \n75%        0.000000      0.000000      0.000000      0.000000      0.000000   \nmax      203.000000    203.000000    206.000000    209.000000    209.000000   \n\n       ...    pixel_2490    pixel_2491    pixel_2492    pixel_2493  \\\ncount  ...  22046.000000  22046.000000  22046.000000  22046.000000   \nmean   ...      2.935907      2.144289      1.475506      1.036242   \nstd    ...     21.399852     18.230696     15.027315     12.475082   \nmin    ...      0.000000      0.000000      0.000000      0.000000   \n25%    ...      0.000000      0.000000      0.000000      0.000000   \n50%    ...      0.000000      0.000000      0.000000      0.000000   \n75%    ...      0.000000      0.000000      0.000000      0.000000   \nmax    ...    207.000000    207.000000    207.000000    209.000000   \n\n         pixel_2494    pixel_2495    pixel_2496    pixel_2497    pixel_2498  \\\ncount  22046.000000  22046.000000  22046.000000  22046.000000  22046.000000   \nmean       0.735553      0.457543      0.264901      0.167559      0.089631   \nstd       10.453670      7.980879      5.996918      4.624739      3.298136   \nmin        0.000000      0.000000      0.000000      0.000000      0.000000   \n25%        0.000000      0.000000      0.000000      0.000000      0.000000   \n50%        0.000000      0.000000      0.000000      0.000000      0.000000   \n75%        0.000000      0.000000      0.000000      0.000000      0.000000   \nmax      205.000000    198.000000    191.000000    190.000000    186.000000   \n\n         pixel_2499  \ncount  22046.000000  \nmean       0.044861  \nstd        2.566040  \nmin        0.000000  \n25%        0.000000  \n50%        0.000000  \n75%        0.000000  \nmax      185.000000  \n\n[8 rows x 2500 columns]",
            "text/html": "<div>\n<style scoped>\n    .dataframe tbody tr th:only-of-type {\n        vertical-align: middle;\n    }\n\n    .dataframe tbody tr th {\n        vertical-align: top;\n    }\n\n    .dataframe thead th {\n        text-align: right;\n    }\n</style>\n<table border=\"1\" class=\"dataframe\">\n  <thead>\n    <tr style=\"text-align: right;\">\n      <th></th>\n      <th>pixel_0</th>\n      <th>pixel_1</th>\n      <th>pixel_2</th>\n      <th>pixel_3</th>\n      <th>pixel_4</th>\n      <th>pixel_5</th>\n      <th>pixel_6</th>\n      <th>pixel_7</th>\n      <th>pixel_8</th>\n      <th>pixel_9</th>\n      <th>...</th>\n      <th>pixel_2490</th>\n      <th>pixel_2491</th>\n      <th>pixel_2492</th>\n      <th>pixel_2493</th>\n      <th>pixel_2494</th>\n      <th>pixel_2495</th>\n      <th>pixel_2496</th>\n      <th>pixel_2497</th>\n      <th>pixel_2498</th>\n      <th>pixel_2499</th>\n    </tr>\n  </thead>\n  <tbody>\n    <tr>\n      <th>count</th>\n      <td>22046.000000</td>\n      <td>22046.000000</td>\n      <td>22046.000000</td>\n      <td>22046.000000</td>\n      <td>22046.000000</td>\n      <td>22046.000000</td>\n      <td>22046.000000</td>\n      <td>22046.000000</td>\n      <td>22046.000000</td>\n      <td>22046.000000</td>\n      <td>...</td>\n      <td>22046.000000</td>\n      <td>22046.000000</td>\n      <td>22046.000000</td>\n      <td>22046.000000</td>\n      <td>22046.000000</td>\n      <td>22046.000000</td>\n      <td>22046.000000</td>\n      <td>22046.000000</td>\n      <td>22046.000000</td>\n      <td>22046.000000</td>\n    </tr>\n    <tr>\n      <th>mean</th>\n      <td>0.082691</td>\n      <td>0.158396</td>\n      <td>0.263313</td>\n      <td>0.462624</td>\n      <td>0.699809</td>\n      <td>0.940533</td>\n      <td>1.256237</td>\n      <td>1.752245</td>\n      <td>2.414678</td>\n      <td>3.455502</td>\n      <td>...</td>\n      <td>2.935907</td>\n      <td>2.144289</td>\n      <td>1.475506</td>\n      <td>1.036242</td>\n      <td>0.735553</td>\n      <td>0.457543</td>\n      <td>0.264901</td>\n      <td>0.167559</td>\n      <td>0.089631</td>\n      <td>0.044861</td>\n    </tr>\n    <tr>\n      <th>std</th>\n      <td>3.222090</td>\n      <td>4.543716</td>\n      <td>6.065143</td>\n      <td>8.100107</td>\n      <td>10.053545</td>\n      <td>11.834619</td>\n      <td>13.789559</td>\n      <td>16.426943</td>\n      <td>19.113640</td>\n      <td>23.061772</td>\n      <td>...</td>\n      <td>21.399852</td>\n      <td>18.230696</td>\n      <td>15.027315</td>\n      <td>12.475082</td>\n      <td>10.453670</td>\n      <td>7.980879</td>\n      <td>5.996918</td>\n      <td>4.624739</td>\n      <td>3.298136</td>\n      <td>2.566040</td>\n    </tr>\n    <tr>\n      <th>min</th>\n      <td>0.000000</td>\n      <td>0.000000</td>\n      <td>0.000000</td>\n      <td>0.000000</td>\n      <td>0.000000</td>\n      <td>0.000000</td>\n      <td>0.000000</td>\n      <td>0.000000</td>\n      <td>0.000000</td>\n      <td>0.000000</td>\n      <td>...</td>\n      <td>0.000000</td>\n      <td>0.000000</td>\n      <td>0.000000</td>\n      <td>0.000000</td>\n      <td>0.000000</td>\n      <td>0.000000</td>\n      <td>0.000000</td>\n      <td>0.000000</td>\n      <td>0.000000</td>\n      <td>0.000000</td>\n    </tr>\n    <tr>\n      <th>25%</th>\n      <td>0.000000</td>\n      <td>0.000000</td>\n      <td>0.000000</td>\n      <td>0.000000</td>\n      <td>0.000000</td>\n      <td>0.000000</td>\n      <td>0.000000</td>\n      <td>0.000000</td>\n      <td>0.000000</td>\n      <td>0.000000</td>\n      <td>...</td>\n      <td>0.000000</td>\n      <td>0.000000</td>\n      <td>0.000000</td>\n      <td>0.000000</td>\n      <td>0.000000</td>\n      <td>0.000000</td>\n      <td>0.000000</td>\n      <td>0.000000</td>\n      <td>0.000000</td>\n      <td>0.000000</td>\n    </tr>\n    <tr>\n      <th>50%</th>\n      <td>0.000000</td>\n      <td>0.000000</td>\n      <td>0.000000</td>\n      <td>0.000000</td>\n      <td>0.000000</td>\n      <td>0.000000</td>\n      <td>0.000000</td>\n      <td>0.000000</td>\n      <td>0.000000</td>\n      <td>0.000000</td>\n      <td>...</td>\n      <td>0.000000</td>\n      <td>0.000000</td>\n      <td>0.000000</td>\n      <td>0.000000</td>\n      <td>0.000000</td>\n      <td>0.000000</td>\n      <td>0.000000</td>\n      <td>0.000000</td>\n      <td>0.000000</td>\n      <td>0.000000</td>\n    </tr>\n    <tr>\n      <th>75%</th>\n      <td>0.000000</td>\n      <td>0.000000</td>\n      <td>0.000000</td>\n      <td>0.000000</td>\n      <td>0.000000</td>\n      <td>0.000000</td>\n      <td>0.000000</td>\n      <td>0.000000</td>\n      <td>0.000000</td>\n      <td>0.000000</td>\n      <td>...</td>\n      <td>0.000000</td>\n      <td>0.000000</td>\n      <td>0.000000</td>\n      <td>0.000000</td>\n      <td>0.000000</td>\n      <td>0.000000</td>\n      <td>0.000000</td>\n      <td>0.000000</td>\n      <td>0.000000</td>\n      <td>0.000000</td>\n    </tr>\n    <tr>\n      <th>max</th>\n      <td>174.000000</td>\n      <td>189.000000</td>\n      <td>197.000000</td>\n      <td>205.000000</td>\n      <td>205.000000</td>\n      <td>203.000000</td>\n      <td>203.000000</td>\n      <td>206.000000</td>\n      <td>209.000000</td>\n      <td>209.000000</td>\n      <td>...</td>\n      <td>207.000000</td>\n      <td>207.000000</td>\n      <td>207.000000</td>\n      <td>209.000000</td>\n      <td>205.000000</td>\n      <td>198.000000</td>\n      <td>191.000000</td>\n      <td>190.000000</td>\n      <td>186.000000</td>\n      <td>185.000000</td>\n    </tr>\n  </tbody>\n</table>\n<p>8 rows × 2500 columns</p>\n</div>"
          },
          "metadata": {},
          "execution_count": 12
        }
      ],
      "source": [
        "train.describe()"
      ]
    },
    {
      "cell_type": "code",
      "execution_count": 9,
      "metadata": {},
      "outputs": [],
      "source": [
        "X_train  = train.drop(['label'],axis=1).values\n",
        "y_train  = train['label'].values\n",
        "\n",
        "X_test  = test.drop(['label'],axis=1).values\n",
        "y_test  = test['label'].values"
      ]
    },
    {
      "cell_type": "code",
      "execution_count": 10,
      "metadata": {},
      "outputs": [
        {
          "output_type": "execute_result",
          "data": {
            "text/plain": "((5512, 2500), (5512,))"
          },
          "metadata": {},
          "execution_count": 10
        }
      ],
      "source": [
        "X_test.shape, y_test.shape\n"
      ]
    },
    {
      "cell_type": "code",
      "execution_count": null,
      "metadata": {},
      "outputs": [],
      "source": []
    }
  ]
}